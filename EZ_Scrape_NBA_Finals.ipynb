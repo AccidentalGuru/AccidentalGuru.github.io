{
  "nbformat": 4,
  "nbformat_minor": 0,
  "metadata": {
    "colab": {
      "name": "EZ_Scrape_NBA_Finals.ipynb",
      "private_outputs": true,
      "provenance": [],
      "authorship_tag": "ABX9TyMuO9f4bHcF9IYXIAsrsOfr",
      "include_colab_link": true
    },
    "kernelspec": {
      "name": "python3",
      "display_name": "Python 3"
    },
    "language_info": {
      "name": "python"
    }
  },
  "cells": [
    {
      "cell_type": "markdown",
      "metadata": {
        "id": "view-in-github",
        "colab_type": "text"
      },
      "source": [
        "<a href=\"https://colab.research.google.com/github/AccidentalGuru/AccidentalGuru.github.io/blob/master/EZ_Scrape_NBA_Finals.ipynb\" target=\"_parent\"><img src=\"https://colab.research.google.com/assets/colab-badge.svg\" alt=\"Open In Colab\"/></a>"
      ]
    },
    {
      "cell_type": "code",
      "metadata": {
        "id": "gMgoAWLBDkNs"
      },
      "source": [
        "!pip install mitosheet"
      ],
      "execution_count": null,
      "outputs": []
    },
    {
      "cell_type": "code",
      "metadata": {
        "id": "sewL5IiwEFGp"
      },
      "source": [
        "import mitosheet"
      ],
      "execution_count": null,
      "outputs": []
    },
    {
      "cell_type": "code",
      "metadata": {
        "id": "NDyNmEzH-M1M"
      },
      "source": [
        "# Courtesy of Mito - https://www.youtube.com/watch?v=0k23mD0IHHw&t=2s\n",
        "import pandas as pd\n",
        "import numpy as np\n",
        "import matplotlib.pyplot as plt\n",
        "from unicodedata import normalize"
      ],
      "execution_count": null,
      "outputs": []
    },
    {
      "cell_type": "code",
      "metadata": {
        "id": "Eln_szBO-2ia"
      },
      "source": [
        "table_NBA = pd.read_html(\"https://en.wikipedia.org/wiki/NBA_Finals\")"
      ],
      "execution_count": null,
      "outputs": []
    },
    {
      "cell_type": "code",
      "metadata": {
        "id": "4YizhUGW_eua"
      },
      "source": [
        "print(f'Total Tables: {len(table_NBA)}')"
      ],
      "execution_count": null,
      "outputs": []
    },
    {
      "cell_type": "code",
      "metadata": {
        "id": "TigTBBG-ADKY"
      },
      "source": [
        "table_NBA = pd.read_html(\"https://en.wikipedia.org/wiki/NBA_Finals\", match=\"Finals appearances\")\n",
        "print(f'Total Tables: {len(table_NBA)}')\n",
        "print(table_NBA)"
      ],
      "execution_count": null,
      "outputs": []
    },
    {
      "cell_type": "code",
      "metadata": {
        "id": "TxUugFgsA3Xw"
      },
      "source": [
        "df = table_NBA[0] # Series\n",
        "df"
      ],
      "execution_count": null,
      "outputs": []
    },
    {
      "cell_type": "code",
      "metadata": {
        "id": "BO5n-vOFBFZ1"
      },
      "source": [
        "df = table_NBA[1] # Games\n",
        "df"
      ],
      "execution_count": null,
      "outputs": []
    },
    {
      "cell_type": "code",
      "metadata": {
        "id": "FJvL2SIBByBI"
      },
      "source": [
        "mitosheet.sheet(df)"
      ],
      "execution_count": null,
      "outputs": []
    },
    {
      "cell_type": "code",
      "metadata": {
        "id": "S-rZmMc-EZtT"
      },
      "source": [
        ""
      ],
      "execution_count": null,
      "outputs": []
    }
  ]
}